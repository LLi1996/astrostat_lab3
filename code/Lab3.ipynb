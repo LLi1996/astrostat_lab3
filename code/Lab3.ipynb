{
 "cells": [
  {
   "cell_type": "markdown",
   "metadata": {},
   "source": [
    "# Astrostat Lab 3: Cleaning HST Data"
   ]
  },
  {
   "cell_type": "code",
   "execution_count": 1,
   "metadata": {
    "collapsed": false
   },
   "outputs": [
    {
     "name": "stderr",
     "output_type": "stream",
     "text": [
      "/Users/larryli/anaconda/lib/python2.7/site-packages/matplotlib/font_manager.py:273: UserWarning: Matplotlib is building the font cache using fc-list. This may take a moment.\n",
      "  warnings.warn('Matplotlib is building the font cache using fc-list. This may take a moment.')\n"
     ]
    }
   ],
   "source": [
    "import numpy as np\n",
    "import matplotlib.pyplot as plt\n",
    "from astropy.io import ascii\n",
    "\n",
    "%matplotlib inline"
   ]
  },
  {
   "cell_type": "markdown",
   "metadata": {},
   "source": [
    "### Data read in"
   ]
  },
  {
   "cell_type": "code",
   "execution_count": 7,
   "metadata": {
    "collapsed": true
   },
   "outputs": [],
   "source": [
    "# read in data\n",
    "data = ascii.read('../data/data_headers.dat', data_start=4)\n",
    "# data columns\n",
    "data_day_raw = data[0][:]\n",
    "data_flux_raw = data[1][:]\n",
    "data_flux_err_raw = data[2][:]"
   ]
  },
  {
   "cell_type": "markdown",
   "metadata": {},
   "source": [
    "### Other observation info"
   ]
  },
  {
   "cell_type": "code",
   "execution_count": 57,
   "metadata": {
    "collapsed": true
   },
   "outputs": [],
   "source": [
    "hst_exposure = 13.2 # seconds\n",
    "hst_period_minute = 95.48 # minutes\n",
    "total_orbits = 6\n",
    "\n",
    "eclipse_duration = 166.484 # seconds\n",
    "eclipse_period_hour = 2.025026511149096 # hours\n",
    "\n",
    "observation_start = 57531.87312\n",
    "first_transit_time = 57531.91792371155"
   ]
  },
  {
   "cell_type": "markdown",
   "metadata": {},
   "source": [
    "### Data period conversions"
   ]
  },
  {
   "cell_type": "code",
   "execution_count": 54,
   "metadata": {
    "collapsed": false
   },
   "outputs": [],
   "source": [
    "data_day_norm = data_day_raw - observation_start\n",
    "data_hour_norm = data_day_norm * 24\n",
    "data_second_norm = data_hour_norm * 60\n",
    "\n",
    "hst_period_hour = hst_period_minute / 60\n",
    "\n",
    "first_transit_time_hour_normalized = (first_transit_time - observation_start) * 24\n",
    "\n",
    "eclipse_duration_hour = eclipse_duration / 3600"
   ]
  },
  {
   "cell_type": "markdown",
   "metadata": {},
   "source": [
    "### A quick look at the raw data"
   ]
  },
  {
   "cell_type": "code",
   "execution_count": 60,
   "metadata": {
    "collapsed": false
   },
   "outputs": [
    {
     "data": {
      "image/png": "[encoded data removed]",
      "text/plain": [
       "<matplotlib.figure.Figure at 0x107c95bd0>"
      ]
     },
     "metadata": {},
     "output_type": "display_data"
    }
   ],
   "source": [
    "# raw data\n",
    "fig1 = plt.figure(figsize=(10,2))\n",
    "ax1 = fig1.add_subplot(111)\n",
    "ax1.scatter(data_hour_norm, data_flux_raw, marker='o', color='black')\n",
    "\n",
    "# plots the expected transits\n",
    "for i in range(0, total_orbits + 1):\n",
    "    ax1.plot([first_transit_time_hour_normalized + i * eclipse_period_hour,\n",
    "              first_transit_time_hour_normalized + i * eclipse_period_hour], \n",
    "             [np.min(data_flux_raw), np.max(data_flux_raw)], color='red')\n",
    "\n",
    "ax1.set_xlim([0, total_orbits * hst_period_hour])\n",
    "ax1.set_xlabel('hours since start of observation')\n",
    "ax1.set_ylabel('flux')\n",
    "ax1.set_title('HST Data Raw')\n",
    "fig1.show()"
   ]
  },
  {
   "cell_type": "code",
   "execution_count": 80,
   "metadata": {
    "collapsed": false
   },
   "outputs": [
    {
     "data": {
      "image/png": "[encoded data removed]",
      "text/plain": [
       "<matplotlib.figure.Figure at 0x107c25090>"
      ]
     },
     "metadata": {},
     "output_type": "display_data"
    }
   ],
   "source": [
    "# raw data around first eclipse\n",
    "fig2 = plt.figure(figsize=(4,4))\n",
    "ax1 = fig2.add_subplot(111)\n",
    "ax1.scatter(data_hour_norm, data_flux_raw, marker='o', color='black')\n",
    "ax1.plot([first_transit_time_hour_normalized, first_transit_time_hour_normalized],\n",
    "         [np.min(data_flux_raw), np.max(data_flux_raw)], color='red')\n",
    "\n",
    "ax1.set_xlim([first_transit_time_hour_normalized - 2 * eclipse_duration_hour, \n",
    "              first_transit_time_hour_normalized + 2 * eclipse_duration_hour])\n",
    "ax1.set_ylim([417950, 418150])\n",
    "\n",
    "ax1.set_xlabel('hours since start of observation')\n",
    "ax1.set_ylabel('flux')\n",
    "ax1.set_title('Around First Transit')\n",
    "fig2.show()"
   ]
  },
  {
   "cell_type": "code",
   "execution_count": null,
   "metadata": {
    "collapsed": true
   },
   "outputs": [],
   "source": []
  }
 ],
 "metadata": {
  "kernelspec": {
   "display_name": "Python 2",
   "language": "python",
   "name": "python2"
  },
  "language_info": {
   "codemirror_mode": {
    "name": "ipython",
    "version": 2
   },
   "file_extension": ".py",
   "mimetype": "text/x-python",
   "name": "python",
   "nbconvert_exporter": "python",
   "pygments_lexer": "ipython2",
   "version": "2.7.12"
  }
 },
 "nbformat": 4,
 "nbformat_minor": 0
}
